{
 "cells": [
  {
   "cell_type": "markdown",
   "metadata": {},
   "source": [
    "# Hello world"
   ]
  },
  {
   "cell_type": "code",
   "execution_count": 1,
   "metadata": {},
   "outputs": [
    {
     "name": "stdout",
     "output_type": "stream",
     "text": [
      "Hello world\n"
     ]
    },
    {
     "data": {
      "text/plain": [
       "12 <nil>"
      ]
     },
     "execution_count": 1,
     "metadata": {},
     "output_type": "execute_result"
    }
   ],
   "source": [
    "import \"fmt\"\n",
    "fmt.Println(\"Hello world\")"
   ]
  },
  {
   "cell_type": "markdown",
   "metadata": {},
   "source": [
    "# Values"
   ]
  },
  {
   "cell_type": "code",
   "execution_count": 2,
   "metadata": {},
   "outputs": [
    {
     "name": "stdout",
     "output_type": "stream",
     "text": [
      "golang\n",
      "1+1 = 2\n",
      "7.0/3.0 = 2.3333333333333335\n",
      "false\n",
      "true\n",
      "false\n"
     ]
    },
    {
     "data": {
      "text/plain": [
       "6 <nil>"
      ]
     },
     "execution_count": 2,
     "metadata": {},
     "output_type": "execute_result"
    }
   ],
   "source": [
    "// Strings, which can be added together with `+`.\n",
    "fmt.Println(\"go\" + \"lang\")\n",
    "\n",
    "// Integers and floats.\n",
    "fmt.Println(\"1+1 =\", 1+1)\n",
    "fmt.Println(\"7.0/3.0 =\", 7.0/3.0)\n",
    "\n",
    "// Booleans, with boolean operators as you'd expect.\n",
    "fmt.Println(true && false)\n",
    "fmt.Println(true || false)\n",
    "fmt.Println(!true)"
   ]
  },
  {
   "cell_type": "markdown",
   "metadata": {},
   "source": [
    "# Variables"
   ]
  },
  {
   "cell_type": "code",
   "execution_count": 3,
   "metadata": {},
   "outputs": [
    {
     "name": "stdout",
     "output_type": "stream",
     "text": [
      "initial\n",
      "1 2\n",
      "true\n",
      "0\n",
      "apple\n"
     ]
    },
    {
     "data": {
      "text/plain": [
       "6 <nil>"
      ]
     },
     "execution_count": 3,
     "metadata": {},
     "output_type": "execute_result"
    }
   ],
   "source": [
    "var a = \"initial\"\n",
    "fmt.Println(a)\n",
    "\n",
    "var b, c int = 1, 2\n",
    "fmt.Println(b, c)\n",
    "\n",
    "var d = true\n",
    "fmt.Println(d)\n",
    "\n",
    "var e int\n",
    "fmt.Println(e)\n",
    "\n",
    "f := \"apple\"\n",
    "fmt.Println(f)"
   ]
  },
  {
   "cell_type": "markdown",
   "metadata": {},
   "source": [
    "# Constants\n",
    "\n",
    "Go supports constants of character, string, boolean, and numeric values.\n",
    "\n",
    "const declares a constant value.\n",
    "\n",
    "A const statement can appear anywhere a var statement can.\n",
    "Constant expressions perform arithmetic with arbitrary precision.\n",
    "A numeric constant has no type until it’s given one, such as by an explicit conversion.\n",
    "A number can be given a type by using it in a context that requires one, such as a variable assignment or function call. For example, here math.Sin expects a float64."
   ]
  },
  {
   "cell_type": "code",
   "execution_count": 8,
   "metadata": {},
   "outputs": [
    {
     "name": "stdout",
     "output_type": "stream",
     "text": [
      "constant\n",
      "6e+11\n",
      "600000000000\n",
      "-0.28470407323754404\n"
     ]
    },
    {
     "data": {
      "text/plain": [
       "21 <nil>"
      ]
     },
     "execution_count": 8,
     "metadata": {},
     "output_type": "execute_result"
    }
   ],
   "source": [
    "import (\n",
    "    \"fmt\"\n",
    "    \"math\"\n",
    ")\n",
    "\n",
    "const s string = \"constant\"\n",
    "\n",
    "fmt.Println(s)\n",
    "\n",
    "const n = 500000000\n",
    "\n",
    "const d = 3e20 / n\n",
    "fmt.Println(d)\n",
    "\n",
    "fmt.Println(int64(d))\n",
    "\n",
    "fmt.Println(math.Sin(n))"
   ]
  },
  {
   "cell_type": "code",
   "execution_count": 12,
   "metadata": {},
   "outputs": [
    {
     "name": "stdout",
     "output_type": "stream",
     "text": [
      "anynomus function\n"
     ]
    }
   ],
   "source": [
    "func f(){\n",
    "    fmt.Println(\"anynomus function\")\n",
    "}\n",
    "f()"
   ]
  },
  {
   "cell_type": "code",
   "execution_count": null,
   "metadata": {},
   "outputs": [],
   "source": []
  }
 ],
 "metadata": {
  "kernelspec": {
   "display_name": "Go",
   "language": "go",
   "name": "gophernotes"
  },
  "language_info": {
   "codemirror_mode": "",
   "file_extension": ".go",
   "mimetype": "",
   "name": "go",
   "nbconvert_exporter": "",
   "pygments_lexer": "",
   "version": "go1.11.4"
  }
 },
 "nbformat": 4,
 "nbformat_minor": 2
}
